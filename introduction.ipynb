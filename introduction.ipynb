{
  "nbformat": 4,
  "nbformat_minor": 0,
  "metadata": {
    "colab": {
      "provenance": [],
      "authorship_tag": "ABX9TyPuej6rJSN5BPqu6fRAx8Ct",
      "include_colab_link": true
    },
    "kernelspec": {
      "name": "python3",
      "display_name": "Python 3"
    },
    "language_info": {
      "name": "python"
    }
  },
  "cells": [
    {
      "cell_type": "markdown",
      "metadata": {
        "id": "view-in-github",
        "colab_type": "text"
      },
      "source": [
        "<a href=\"https://colab.research.google.com/github/shamy-campo11/Intro_python_202320/blob/main/introduction.ipynb\" target=\"_parent\"><img src=\"https://colab.research.google.com/assets/colab-badge.svg\" alt=\"Open In Colab\"/></a>"
      ]
    },
    {
      "cell_type": "code",
      "execution_count": null,
      "metadata": {
        "id": "866AGY97E-12"
      },
      "outputs": [],
      "source": []
    },
    {
      "cell_type": "markdown",
      "source": [
        "#Introduccion a python\n",
        "##Curso de programacion y algoritmia UPB 202320\n",
        "- Nombre: Shamy Campo\n",
        "- ID: 000500233\n",
        "- Gmail: shamy.campo@upb.edu.co\n",
        "\n",
        " Esta es la expresion de la recta :$$y=mx+b$$\n",
        "\n",
        " donde $x$ es la posicion"
      ],
      "metadata": {
        "id": "_h3A_yGfF5Ka"
      }
    },
    {
      "cell_type": "code",
      "source": [],
      "metadata": {
        "id": "_fGqZwY-HwsB"
      },
      "execution_count": null,
      "outputs": []
    }
  ]
}