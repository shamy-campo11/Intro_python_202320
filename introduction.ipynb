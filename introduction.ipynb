{
  "nbformat": 4,
  "nbformat_minor": 0,
  "metadata": {
    "colab": {
      "provenance": [],
      "authorship_tag": "ABX9TyMNv3iqQPylpGafWCy1M47T",
      "include_colab_link": true
    },
    "kernelspec": {
      "name": "python3",
      "display_name": "Python 3"
    },
    "language_info": {
      "name": "python"
    }
  },
  "cells": [
    {
      "cell_type": "markdown",
      "metadata": {
        "id": "view-in-github",
        "colab_type": "text"
      },
      "source": [
        "<a href=\"https://colab.research.google.com/github/shamy-campo11/Intro_python_202320/blob/main/introduction.ipynb\" target=\"_parent\"><img src=\"https://colab.research.google.com/assets/colab-badge.svg\" alt=\"Open In Colab\"/></a>"
      ]
    },
    {
      "cell_type": "code",
      "execution_count": null,
      "metadata": {
        "id": "866AGY97E-12"
      },
      "outputs": [],
      "source": []
    },
    {
      "cell_type": "markdown",
      "source": [
        "#Introduccion a python\n",
        "##Curso de programacion y algoritmia UPB 202320\n",
        "- Nombre: Shamy Campo\n",
        "- ID: 000500233\n",
        "- Gmail: shamy.campo@upb.edu.co\n",
        "\n",
        " Esta es la expresion de la recta :$$y=mx+b$$\n",
        "\n",
        " donde $x$ es la posicion"
      ],
      "metadata": {
        "id": "_h3A_yGfF5Ka"
      }
    },
    {
      "cell_type": "code",
      "source": [
        "# comentarios\n",
        "# Mis primeras lineas de codigo\n",
        "name = 'Shamy'\n",
        "print (\"Hello,\",name)"
      ],
      "metadata": {
        "id": "_fGqZwY-HwsB",
        "outputId": "8dc7fb5b-5626-4698-f160-90b75e11db4d",
        "colab": {
          "base_uri": "https://localhost:8080/"
        }
      },
      "execution_count": null,
      "outputs": [
        {
          "output_type": "stream",
          "name": "stdout",
          "text": [
            "Hello, Shamy\n"
          ]
        }
      ]
    },
    {
      "cell_type": "code",
      "source": [
        "# comentarios\n",
        "\n",
        "firstname = 'Shamy'\n",
        "lastname = 'Campo'\n",
        "age = '18'\n",
        "city = 'Monteria'\n",
        "food = 'hamburguesa'\n",
        "print (\"Hola mi nombre es\", firstname ,lastname , \"y tengo\",age, \"vivo en \" , city,\"mi comida favorita es \", food)"
      ],
      "metadata": {
        "id": "8DCcBM4rUAii",
        "outputId": "7d6536be-fb41-435f-d898-d376eebcdf25",
        "colab": {
          "base_uri": "https://localhost:8080/"
        }
      },
      "execution_count": null,
      "outputs": [
        {
          "output_type": "stream",
          "name": "stdout",
          "text": [
            "Hola mi nombre es Shamy Campo y tengo 18 vivo en  Monteria mi comida favorita es  hamburguesa\n"
          ]
        }
      ]
    },
    {
      "cell_type": "code",
      "source": [
        "a = 3\n",
        "b = 4.5\n",
        "c = a + b\n",
        "print(type(a))\n",
        "print(type(b))\n",
        "print(c)\n",
        "c= c * a\n",
        "print(c)\n",
        "c = int(c / b)\n",
        "print(c)\n",
        "d = 0.3\n",
        "c += d\n",
        "print(c)\n"
      ],
      "metadata": {
        "id": "SEsEg_8yVwHb",
        "outputId": "3be26022-ef7a-4978-9125-00b0ec619abc",
        "colab": {
          "base_uri": "https://localhost:8080/"
        }
      },
      "execution_count": 7,
      "outputs": [
        {
          "output_type": "stream",
          "name": "stdout",
          "text": [
            "<class 'int'>\n",
            "<class 'float'>\n",
            "7.5\n",
            "22.5\n",
            "5\n",
            "5.3\n"
          ]
        }
      ]
    },
    {
      "cell_type": "code",
      "source": [
        "m = 5\n",
        "b = 2\n",
        "x = -3\n",
        "y = m * x + b\n",
        "print(x, '/---/', y)\n",
        "x = -2\n",
        "y = m * x + b\n",
        "print(x,'/---/',y)\n",
        "x = -1\n",
        "y = m * x + b\n",
        "print(x, '/---/',y)\n",
        "\n"
      ],
      "metadata": {
        "id": "VzStYyoua27G",
        "outputId": "00e13ba6-8230-412a-85f3-914f8102c851",
        "colab": {
          "base_uri": "https://localhost:8080/"
        }
      },
      "execution_count": 14,
      "outputs": [
        {
          "output_type": "stream",
          "name": "stdout",
          "text": [
            "-3 /---/ -13\n",
            "-2 /---/ -8\n",
            "-1 /---/ -3\n"
          ]
        }
      ]
    },
    {
      "cell_type": "code",
      "source": [
        "a = 1\n",
        "b = 2\n",
        "c = -8\n",
        "disc = (b ** 2 - 4 * a * c ) ** (1/2)\n",
        "x_p = (-b + disc) / (2 * a)\n",
        "x_n = (-b - disc) / (2 * a)\n",
        "print('x_p:',x_p)\n",
        "print('x_n:',x_n)\n",
        "print('-'*10)\n",
        "a = -3\n",
        "b = 1\n",
        "c = 10\n",
        "disc = (b ** 2 - 4 * a * c ) ** (1/2)\n",
        "x_p = (-b + disc) / (2 * a)\n",
        "x_n = (-b - disc) / (2 * a)\n",
        "print('x_p:',x_p)\n",
        "print('x_n:',x_n)\n",
        "print('-'*10)\n",
        "a = 0.1\n",
        "b = -2\n",
        "c = 0.5\n",
        "disc = (b ** 2 - 4 * a * c ) ** (1/2)\n",
        "x_p = (-b + disc) / (2 * a)\n",
        "x_n = (-b - disc) / (2 * a)\n",
        "print('x_p:',x_p)\n",
        "print('x_n:',x_n)\n",
        "print('-'*10)"
      ],
      "metadata": {
        "id": "AngDc6Kjd8PI",
        "outputId": "c260be06-bac8-42e5-941e-13883a683946",
        "colab": {
          "base_uri": "https://localhost:8080/"
        }
      },
      "execution_count": 19,
      "outputs": [
        {
          "output_type": "stream",
          "name": "stdout",
          "text": [
            "x_p: 2.0\n",
            "x_n: -4.0\n",
            "----------\n",
            "x_p: -1.6666666666666667\n",
            "x_n: 2.0\n",
            "----------\n",
            "x_p: 19.74679434480896\n",
            "x_n: 0.25320565519103666\n",
            "----------\n"
          ]
        }
      ]
    },
    {
      "cell_type": "code",
      "source": [
        "fistname = 'Shamy'\n",
        "lastname = 'Campo'\n",
        "fullname = fistname + ' ' + lastname\n",
        "print(fullname)"
      ],
      "metadata": {
        "id": "u8PwPekdidl9",
        "outputId": "5232b7c1-3990-4e61-e617-9391d339921d",
        "colab": {
          "base_uri": "https://localhost:8080/"
        }
      },
      "execution_count": 20,
      "outputs": [
        {
          "output_type": "stream",
          "name": "stdout",
          "text": [
            "Shamy Campo\n"
          ]
        }
      ]
    },
    {
      "cell_type": "code",
      "source": [
        "song = \"\"\"un elefante se balanceaba\n",
        "sobre la tela de una araña\n",
        "como veia que resistia\n",
        "se fue a buscar otra...no se. \"\"\"\n",
        "print(song)\n"
      ],
      "metadata": {
        "id": "RyB6ih-akIJC",
        "outputId": "3f256915-44bb-45e1-974e-a58f90c42568",
        "colab": {
          "base_uri": "https://localhost:8080/"
        }
      },
      "execution_count": 22,
      "outputs": [
        {
          "output_type": "stream",
          "name": "stdout",
          "text": [
            "un elefante se balanceaba \n",
            "sobre la tela de una araña\n",
            "como veia que resistia\n",
            "se fue a buscar otra...no se. \n"
          ]
        }
      ]
    },
    {
      "cell_type": "code",
      "source": [
        "a = 3\n",
        "b = 5\n",
        "print(a == b)\n",
        "print(a != b)\n",
        "print (a > b)\n",
        "print(a < b)\n",
        "print((a == b) and (b * 3 > 5 ))\n",
        "print((a == b) or (b + 3 > 5))\n",
        "print(not(a == b))\n"
      ],
      "metadata": {
        "id": "XGbRW6bkk6AZ",
        "outputId": "3cda02a1-54e1-4642-c483-4db3061225bc",
        "colab": {
          "base_uri": "https://localhost:8080/"
        }
      },
      "execution_count": 26,
      "outputs": [
        {
          "output_type": "stream",
          "name": "stdout",
          "text": [
            "False\n",
            "True\n",
            "False\n",
            "True\n",
            "False\n",
            "True\n",
            "True\n"
          ]
        }
      ]
    },
    {
      "cell_type": "code",
      "source": [],
      "metadata": {
        "id": "VF8NaoRLl66B"
      },
      "execution_count": null,
      "outputs": []
    }
  ]
}