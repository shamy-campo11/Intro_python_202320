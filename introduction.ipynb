{
  "nbformat": 4,
  "nbformat_minor": 0,
  "metadata": {
    "colab": {
      "provenance": [],
      "authorship_tag": "ABX9TyNP2sIbw7OQffTCGWeBkV+c",
      "include_colab_link": true
    },
    "kernelspec": {
      "name": "python3",
      "display_name": "Python 3"
    },
    "language_info": {
      "name": "python"
    }
  },
  "cells": [
    {
      "cell_type": "markdown",
      "metadata": {
        "id": "view-in-github",
        "colab_type": "text"
      },
      "source": [
        "<a href=\"https://colab.research.google.com/github/shamy-campo11/Intro_python_202320/blob/main/introduction.ipynb\" target=\"_parent\"><img src=\"https://colab.research.google.com/assets/colab-badge.svg\" alt=\"Open In Colab\"/></a>"
      ]
    },
    {
      "cell_type": "code",
      "execution_count": null,
      "metadata": {
        "id": "866AGY97E-12"
      },
      "outputs": [],
      "source": []
    },
    {
      "cell_type": "markdown",
      "source": [
        "#Introduccion a python\n",
        "##Curso de programacion y algoritmia UPB 202320\n",
        "- Nombre: Shamy Campo\n",
        "- ID: 000500233\n",
        "- Gmail: shamy.campo@upb.edu.co\n",
        "\n",
        " Esta es la expresion de la recta :$$y=mx+b$$\n",
        "\n",
        " donde $x$ es la posicion"
      ],
      "metadata": {
        "id": "_h3A_yGfF5Ka"
      }
    },
    {
      "cell_type": "code",
      "source": [
        "# comentarios\n",
        "# Mis primeras lineas de codigo\n",
        "name = 'Shamy'\n",
        "print (\"Hello,\",name)"
      ],
      "metadata": {
        "id": "_fGqZwY-HwsB",
        "outputId": "8dc7fb5b-5626-4698-f160-90b75e11db4d",
        "colab": {
          "base_uri": "https://localhost:8080/"
        }
      },
      "execution_count": 1,
      "outputs": [
        {
          "output_type": "stream",
          "name": "stdout",
          "text": [
            "Hello, Shamy\n"
          ]
        }
      ]
    },
    {
      "cell_type": "code",
      "source": [
        "# comentarios\n",
        "\n",
        "firstname = 'Shamy'\n",
        "lastname = 'Campo'\n",
        "age = '18'\n",
        "city = 'Monteria'\n",
        "food = 'hamburguesa'\n",
        "print (\"Hola mi nombre es\", firstname ,lastname , \"y tengo\",age, \"vivo en \" , city,\"mi comida favorita es \", food)"
      ],
      "metadata": {
        "id": "8DCcBM4rUAii",
        "outputId": "7d6536be-fb41-435f-d898-d376eebcdf25",
        "colab": {
          "base_uri": "https://localhost:8080/"
        }
      },
      "execution_count": 5,
      "outputs": [
        {
          "output_type": "stream",
          "name": "stdout",
          "text": [
            "Hola mi nombre es Shamy Campo y tengo 18 vivo en  Monteria mi comida favorita es  hamburguesa\n"
          ]
        }
      ]
    },
    {
      "cell_type": "code",
      "source": [],
      "metadata": {
        "id": "SEsEg_8yVwHb"
      },
      "execution_count": null,
      "outputs": []
    }
  ]
}